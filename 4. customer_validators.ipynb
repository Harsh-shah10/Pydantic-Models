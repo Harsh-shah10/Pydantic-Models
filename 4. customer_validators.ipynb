{
 "cells": [
  {
   "cell_type": "code",
   "execution_count": 1,
   "metadata": {},
   "outputs": [
    {
     "name": "stdout",
     "output_type": "stream",
     "text": [
      "2.5.3\n"
     ]
    }
   ],
   "source": [
    "import pydantic\n",
    "print(pydantic.VERSION)\n"
   ]
  },
  {
   "cell_type": "markdown",
   "metadata": {},
   "source": [
    "Custom Validators \n",
    "- Customizing Field Validators"
   ]
  },
  {
   "cell_type": "code",
   "execution_count": 2,
   "metadata": {},
   "outputs": [
    {
     "name": "stdout",
     "output_type": "stream",
     "text": [
      "1 validation error for User\n",
      "age\n",
      "  Input should be greater than 31 [type=greater_than, input_value=12, input_type=int]\n",
      "    For further information visit https://errors.pydantic.dev/2.5/v/greater_than\n"
     ]
    }
   ],
   "source": [
    "from pydantic import BaseModel, Field, ValidationError\n",
    "\n",
    "class User(BaseModel):\n",
    "    age : int = Field(gt=31)\n",
    "    name : str\n",
    "\n",
    "try:\n",
    "    u1 = User(age=12, name=\"mona\")\n",
    "    print(u1)\n",
    "except pydantic.ValidationError as e:\n",
    "    print(e)"
   ]
  },
  {
   "cell_type": "code",
   "execution_count": 3,
   "metadata": {},
   "outputs": [],
   "source": [
    "from pydantic import BaseModel, Field, ValidationError\n",
    "from pydantic import field_validator\n",
    "\n",
    "class User(BaseModel):\n",
    "    age : int = Field(gt=0)\n",
    "    name : str\n",
    "\n",
    "    @field_validator(\"age\")\n",
    "    @classmethod\n",
    "    def validate_age(cls, value):\n",
    "        if value < 18:\n",
    "            raise ValueError(\"Age must be atleast 18\")\n",
    "        return value"
   ]
  },
  {
   "cell_type": "code",
   "execution_count": 4,
   "metadata": {},
   "outputs": [
    {
     "name": "stdout",
     "output_type": "stream",
     "text": [
      "1 validation error for User\n",
      "age\n",
      "  Value error, Age must be atleast 18 [type=value_error, input_value=11, input_type=int]\n",
      "    For further information visit https://errors.pydantic.dev/2.5/v/value_error\n"
     ]
    }
   ],
   "source": [
    "try:\n",
    "    u1 = User(age=11, name=\"kiko\")\n",
    "    print(u1)\n",
    "except pydantic.ValidationError as e:\n",
    "    print(e)"
   ]
  },
  {
   "cell_type": "code",
   "execution_count": 6,
   "metadata": {},
   "outputs": [
    {
     "name": "stdout",
     "output_type": "stream",
     "text": [
      "age=18 name='kiko'\n"
     ]
    }
   ],
   "source": [
    "try:\n",
    "    u2 = User(age=18, name=\"kiko\")\n",
    "    print(u2)\n",
    "except pydantic.ValidationError as e:\n",
    "    print(e)"
   ]
  },
  {
   "cell_type": "code",
   "execution_count": null,
   "metadata": {},
   "outputs": [],
   "source": []
  },
  {
   "cell_type": "code",
   "execution_count": 11,
   "metadata": {},
   "outputs": [
    {
     "name": "stdout",
     "output_type": "stream",
     "text": [
      "dept='Alumina' course_name='Science' start_dt=datetime.date(2025, 12, 22) end_dt=datetime.date(2024, 11, 12)\n"
     ]
    }
   ],
   "source": [
    "from datetime import date\n",
    "from pydantic import BaseModel, ValidationError\n",
    "\n",
    "\n",
    "class ScheduledCourse(BaseModel):\n",
    "    dept : str\n",
    "    course_name : str\n",
    "    start_dt : date\n",
    "    end_dt : date\n",
    "\n",
    "\n",
    "try:\n",
    "    c1 = ScheduledCourse(\n",
    "        dept=\"Alumina\",\n",
    "        course_name=\"Science\",\n",
    "        start_dt=\"2025-12-22\",\n",
    "        end_dt=\"2024-11-12\"\n",
    "    )\n",
    "    print(c1)\n",
    "except pydantic.ValidationError as e:\n",
    "    print(e)"
   ]
  },
  {
   "cell_type": "markdown",
   "metadata": {},
   "source": [
    "Model Level Validators : \n",
    "\n",
    "ex. > If I want start_date to be always before end_date\n"
   ]
  },
  {
   "cell_type": "code",
   "execution_count": 15,
   "metadata": {},
   "outputs": [
    {
     "name": "stdout",
     "output_type": "stream",
     "text": [
      "1 validation error for ScheduledCourse\n",
      "  Value error, Start date must be before the End date [type=value_error, input_value={'dept': 'Alumina', 'cour... 'end_dt': '2024-11-12'}, input_type=dict]\n",
      "    For further information visit https://errors.pydantic.dev/2.5/v/value_error\n"
     ]
    }
   ],
   "source": [
    "from pydantic import BaseModel, ValidationError, model_validator\n",
    "\n",
    "class ScheduledCourse(BaseModel):\n",
    "    dept : str\n",
    "    course_name : str\n",
    "    start_dt : date\n",
    "    end_dt : date\n",
    "\n",
    "    @model_validator(mode=\"before\") # Using before the model is being instantiated\n",
    "    @classmethod\n",
    "    def validate_date(cls, data: dict):\n",
    "        if data[\"start_dt\"] > data[\"end_dt\"]:\n",
    "            raise ValueError(\"Start date must be before the End date\")\n",
    "        return data \n",
    "\n",
    "try:\n",
    "    c1 = ScheduledCourse(\n",
    "        dept=\"Alumina\",\n",
    "        course_name=\"Science\",\n",
    "        start_dt=\"2025-12-22\",\n",
    "        end_dt=\"2024-11-12\"\n",
    "    )\n",
    "    print(c1)\n",
    "except pydantic.ValidationError as e:\n",
    "    print(e)\n",
    "\n"
   ]
  },
  {
   "cell_type": "code",
   "execution_count": 17,
   "metadata": {},
   "outputs": [
    {
     "name": "stdout",
     "output_type": "stream",
     "text": [
      "dept='Alumina' course_name='Science' start_dt=datetime.date(2024, 11, 22) end_dt=datetime.date(2024, 12, 12)\n"
     ]
    }
   ],
   "source": [
    "try:\n",
    "    c2 = ScheduledCourse(\n",
    "        dept=\"Alumina\",\n",
    "        course_name=\"Science\",\n",
    "        start_dt=\"2024-11-22\",\n",
    "        end_dt=\"2024-12-12\"\n",
    "    )\n",
    "    print(c2)\n",
    "except pydantic.ValidationError as e:\n",
    "    print(e)"
   ]
  },
  {
   "cell_type": "code",
   "execution_count": null,
   "metadata": {},
   "outputs": [],
   "source": []
  },
  {
   "cell_type": "code",
   "execution_count": 22,
   "metadata": {},
   "outputs": [],
   "source": [
    "from pydantic import BaseModel, ValidationError, model_validator\n",
    "\n",
    "class ScheduledCourse(BaseModel):\n",
    "    dept : str\n",
    "    course_name : str\n",
    "    start_dt : date\n",
    "    end_dt : date\n",
    "\n",
    "    @model_validator(mode=\"after\") # Using after the model is being instantiated\n",
    "    def validate_date(self):\n",
    "        if self.start_dt > self.end_dt:\n",
    "            raise ValueError(\"Start date must be before the End date\")\n",
    "        return self \n",
    "\n",
    "try:\n",
    "    c1 = ScheduledCourse(\n",
    "        dept=\"Alumina\",\n",
    "        course_name=\"Science\",\n",
    "        start_dt=\"2025-12-22\",\n",
    "        end_dt=\"2024-11-12\"\n",
    "    )\n",
    "    print(c1)\n",
    "except pydantic.ValidationError as e:\n",
    "    error = e\n",
    "    \n",
    "\n"
   ]
  },
  {
   "cell_type": "code",
   "execution_count": 24,
   "metadata": {},
   "outputs": [
    {
     "name": "stdout",
     "output_type": "stream",
     "text": [
      "1 validation error for ScheduledCourse\n",
      "  Value error, Start date must be before the End date [type=value_error, input_value={'dept': 'Alumina', 'cour... 'end_dt': '2024-11-12'}, input_type=dict]\n",
      "    For further information visit https://errors.pydantic.dev/2.5/v/value_error\n"
     ]
    }
   ],
   "source": [
    "print(error)"
   ]
  },
  {
   "cell_type": "code",
   "execution_count": 27,
   "metadata": {},
   "outputs": [
    {
     "name": "stdout",
     "output_type": "stream",
     "text": [
      "[{\"type\":\"value_error\",\"loc\":[],\"msg\":\"Value error, Start date must be before the End date\",\"input\":{\"dept\":\"Alumina\",\"course_name\":\"Science\",\"start_dt\":\"2025-12-22\",\"end_dt\":\"2024-11-12\"},\"ctx\":{\"error\":\"Start date must be before the End date\"},\"url\":\"https://errors.pydantic.dev/2.5/v/value_error\"}]\n"
     ]
    }
   ],
   "source": [
    "print(error.json())"
   ]
  },
  {
   "cell_type": "code",
   "execution_count": 32,
   "metadata": {},
   "outputs": [
    {
     "name": "stdout",
     "output_type": "stream",
     "text": [
      "[\n",
      "  {\n",
      "    \"type\": \"value_error\",\n",
      "    \"loc\": [],\n",
      "    \"msg\": \"Value error, Start date must be before the End date\",\n",
      "    \"input\": {\n",
      "      \"dept\": \"Alumina\",\n",
      "      \"course_name\": \"Science\",\n",
      "      \"start_dt\": \"2025-12-22\",\n",
      "      \"end_dt\": \"2024-11-12\"\n",
      "    },\n",
      "    \"ctx\": {\n",
      "      \"error\": \"Start date must be before the End date\"\n",
      "    },\n",
      "    \"url\": \"https://errors.pydantic.dev/2.5/v/value_error\"\n",
      "  }\n",
      "]\n"
     ]
    }
   ],
   "source": [
    "print(error.json(indent=2))"
   ]
  },
  {
   "cell_type": "code",
   "execution_count": 34,
   "metadata": {},
   "outputs": [
    {
     "name": "stdout",
     "output_type": "stream",
     "text": [
      "value_error\n",
      "Value error, Start date must be before the End date\n"
     ]
    }
   ],
   "source": [
    "print(error.errors()[0][\"type\"])\n",
    "print(error.errors()[0][\"msg\"])"
   ]
  },
  {
   "cell_type": "code",
   "execution_count": null,
   "metadata": {},
   "outputs": [],
   "source": []
  },
  {
   "cell_type": "code",
   "execution_count": 19,
   "metadata": {},
   "outputs": [
    {
     "name": "stdout",
     "output_type": "stream",
     "text": [
      "dept='Alumina' course_name='Science' start_dt=datetime.date(2024, 11, 22) end_dt=datetime.date(2024, 12, 12)\n"
     ]
    }
   ],
   "source": [
    "try:\n",
    "    c2 = ScheduledCourse(\n",
    "        dept=\"Alumina\",\n",
    "        course_name=\"Science\",\n",
    "        start_dt=\"2024-11-22\",\n",
    "        end_dt=\"2024-12-12\"\n",
    "    )\n",
    "    print(c2)\n",
    "except pydantic.ValidationError as e:\n",
    "    print(e)"
   ]
  },
  {
   "cell_type": "code",
   "execution_count": null,
   "metadata": {},
   "outputs": [],
   "source": []
  },
  {
   "cell_type": "code",
   "execution_count": null,
   "metadata": {},
   "outputs": [],
   "source": []
  },
  {
   "cell_type": "code",
   "execution_count": null,
   "metadata": {},
   "outputs": [],
   "source": []
  }
 ],
 "metadata": {
  "kernelspec": {
   "display_name": "vvenv",
   "language": "python",
   "name": "python3"
  },
  "language_info": {
   "codemirror_mode": {
    "name": "ipython",
    "version": 3
   },
   "file_extension": ".py",
   "mimetype": "text/x-python",
   "name": "python",
   "nbconvert_exporter": "python",
   "pygments_lexer": "ipython3",
   "version": "3.12.4"
  }
 },
 "nbformat": 4,
 "nbformat_minor": 2
}
