{
 "cells": [
  {
   "cell_type": "code",
   "execution_count": 2,
   "metadata": {},
   "outputs": [
    {
     "name": "stdout",
     "output_type": "stream",
     "text": [
      "2.5.3\n"
     ]
    }
   ],
   "source": [
    "import pydantic\n",
    "print(pydantic.VERSION)\n"
   ]
  },
  {
   "cell_type": "markdown",
   "metadata": {},
   "source": [
    "Datetime & Types"
   ]
  },
  {
   "cell_type": "code",
   "execution_count": 15,
   "metadata": {},
   "outputs": [],
   "source": [
    "from datetime import date, time, datetime\n",
    "from pydantic import BaseModel\n",
    "\n",
    "class Event(BaseModel):\n",
    "    event_date : date\n",
    "    event_time : time\n",
    "    current_time : datetime\n",
    "    funt_time : datetime\n",
    "\n",
    "try:\n",
    "    e1 = Event(event_date=\"2011-01-01\", event_time=\"11:12:13\", current_time=datetime.now(), funt_time=\"2011-11-12T11:22:33\")\n",
    "except pydantic.ValidationError as e:\n",
    "    print(e)\n"
   ]
  },
  {
   "cell_type": "code",
   "execution_count": 18,
   "metadata": {},
   "outputs": [
    {
     "name": "stdout",
     "output_type": "stream",
     "text": [
      "2011-01-01\n",
      "11:12:13\n",
      "2024-07-28 14:47:31.044993\n",
      "2011-11-12 11:22:33\n"
     ]
    }
   ],
   "source": [
    "print(str(e1.event_date))\n",
    "\n",
    "print(str(e1.event_time))\n",
    "\n",
    "print(str(e1.current_time))\n",
    "\n",
    "print(str(e1.funt_time))"
   ]
  },
  {
   "cell_type": "code",
   "execution_count": null,
   "metadata": {},
   "outputs": [],
   "source": []
  },
  {
   "cell_type": "markdown",
   "metadata": {},
   "source": [
    "Lists and nested lists"
   ]
  },
  {
   "cell_type": "code",
   "execution_count": 20,
   "metadata": {},
   "outputs": [
    {
     "name": "stdout",
     "output_type": "stream",
     "text": [
      "[1, 2, 3, 4]\n",
      "[2, 4, 6, 8]\n",
      "['a', 'b', 'c', 'd']\n"
     ]
    }
   ],
   "source": [
    "l1 = [1, 2, 3, 4]\n",
    "l2 = [x for x in range(1,10) if x%2==0]\n",
    "l3 = [\"a\", \"b\", \"c\", \"d\"]\n",
    "\n",
    "print(l1)\n",
    "print(l2)\n",
    "print(l3)"
   ]
  },
  {
   "cell_type": "code",
   "execution_count": 41,
   "metadata": {},
   "outputs": [],
   "source": [
    "from pydantic import BaseModel, Field\n",
    "from typing import List\n",
    "\n",
    "class ShoppingList(BaseModel):\n",
    "    items : List[str] # means each item in the list shoulbe be of str type\n",
    "    gifts : List[str] = Field(max_length=4, min_length=2)\n",
    "\n",
    "\n"
   ]
  },
  {
   "cell_type": "code",
   "execution_count": 45,
   "metadata": {},
   "outputs": [],
   "source": [
    "import pydantic\n",
    "\n",
    "try:\n",
    "    s1 = ShoppingList(items=l3, gifts=[\"aaa\", \"bb\"])\n",
    "except pydantic.ValidationError as e:\n",
    "    print(e)"
   ]
  },
  {
   "cell_type": "code",
   "execution_count": 46,
   "metadata": {},
   "outputs": [
    {
     "data": {
      "text/plain": [
       "['a', 'b', 'c', 'd']"
      ]
     },
     "execution_count": 46,
     "metadata": {},
     "output_type": "execute_result"
    }
   ],
   "source": [
    "s1.items"
   ]
  },
  {
   "cell_type": "code",
   "execution_count": 47,
   "metadata": {},
   "outputs": [
    {
     "data": {
      "text/plain": [
       "['aaa', 'bb']"
      ]
     },
     "execution_count": 47,
     "metadata": {},
     "output_type": "execute_result"
    }
   ],
   "source": [
    "s1.gifts"
   ]
  },
  {
   "cell_type": "code",
   "execution_count": null,
   "metadata": {},
   "outputs": [],
   "source": []
  },
  {
   "cell_type": "code",
   "execution_count": 48,
   "metadata": {},
   "outputs": [],
   "source": [
    "from pydantic import BaseModel, Field\n",
    "from typing import List\n",
    "\n",
    "class Matrix(BaseModel):\n",
    "    grid : List[List[int]] \n",
    "\n",
    "try:\n",
    "    m1 = Matrix(grid=[[1,2,3],[4,5,6],[7,8,9]])\n",
    "except pydantic.ValidationError as e:\n",
    "    print(e)"
   ]
  },
  {
   "cell_type": "code",
   "execution_count": 51,
   "metadata": {},
   "outputs": [
    {
     "data": {
      "text/plain": [
       "[[1, 2, 3], [4, 5, 6], [7, 8, 9]]"
      ]
     },
     "execution_count": 51,
     "metadata": {},
     "output_type": "execute_result"
    }
   ],
   "source": [
    "m1.grid"
   ]
  },
  {
   "cell_type": "code",
   "execution_count": null,
   "metadata": {},
   "outputs": [],
   "source": []
  },
  {
   "cell_type": "code",
   "execution_count": 52,
   "metadata": {},
   "outputs": [],
   "source": [
    "from pydantic import BaseModel\n",
    "from typing import List\n",
    "\n",
    "\n",
    "class Incredient(BaseModel):\n",
    "    name : str\n",
    "    quantity : float\n",
    "\n",
    "class Receipe(BaseModel):\n",
    "    name : str\n",
    "    incredients : List[Incredient]\n",
    "\n"
   ]
  },
  {
   "cell_type": "code",
   "execution_count": 53,
   "metadata": {},
   "outputs": [],
   "source": [
    "try:\n",
    "    r1 = Receipe(\n",
    "        name=\"Cake\",\n",
    "        incredients=[\n",
    "            Incredient(name=\"floor\", quantity=0.3),\n",
    "            Incredient(name=\"eggs\", quantity=3),\n",
    "            Incredient(name=\"water\", quantity=3.1),\n",
    "            Incredient(name=\"oil\", quantity=1.3),\n",
    "\n",
    "        ])\n",
    "except pydantic.ValidationError as e:\n",
    "    print(e)"
   ]
  },
  {
   "cell_type": "code",
   "execution_count": 54,
   "metadata": {},
   "outputs": [
    {
     "data": {
      "text/plain": [
       "'Cake'"
      ]
     },
     "execution_count": 54,
     "metadata": {},
     "output_type": "execute_result"
    }
   ],
   "source": [
    "r1.name"
   ]
  },
  {
   "cell_type": "code",
   "execution_count": 59,
   "metadata": {},
   "outputs": [
    {
     "data": {
      "text/plain": [
       "[Incredient(name='floor', quantity=0.3),\n",
       " Incredient(name='eggs', quantity=3.0),\n",
       " Incredient(name='water', quantity=3.1),\n",
       " Incredient(name='oil', quantity=1.3)]"
      ]
     },
     "execution_count": 59,
     "metadata": {},
     "output_type": "execute_result"
    }
   ],
   "source": [
    "r1.incredients"
   ]
  },
  {
   "cell_type": "markdown",
   "metadata": {},
   "source": []
  },
  {
   "cell_type": "markdown",
   "metadata": {},
   "source": [
    "Dictionaries & Typed Key-Values"
   ]
  },
  {
   "cell_type": "code",
   "execution_count": 71,
   "metadata": {},
   "outputs": [],
   "source": [
    "from pydantic import BaseModel, Field\n",
    "from typing import Dict\n",
    "\n",
    "\n",
    "class UserProfiles(BaseModel):\n",
    "    users : Dict[str, int] = Field(max_length=5, min_length=2)\n",
    "    \n",
    "\n",
    "try:\n",
    "    u1 = UserProfiles(users={\"harry\":25, \"bob\":24})\n",
    "except pydantic.ValidationError as e:\n",
    "    print(e)    "
   ]
  },
  {
   "cell_type": "code",
   "execution_count": 68,
   "metadata": {},
   "outputs": [
    {
     "data": {
      "text/plain": [
       "UserProfiles(users={'harry': 25, 'bob': 24})"
      ]
     },
     "execution_count": 68,
     "metadata": {},
     "output_type": "execute_result"
    }
   ],
   "source": [
    "u1"
   ]
  },
  {
   "cell_type": "code",
   "execution_count": 72,
   "metadata": {},
   "outputs": [
    {
     "data": {
      "text/plain": [
       "{'harry': 25, 'bob': 24}"
      ]
     },
     "execution_count": 72,
     "metadata": {},
     "output_type": "execute_result"
    }
   ],
   "source": [
    "u1.users"
   ]
  },
  {
   "cell_type": "code",
   "execution_count": null,
   "metadata": {},
   "outputs": [],
   "source": []
  },
  {
   "cell_type": "code",
   "execution_count": 81,
   "metadata": {},
   "outputs": [],
   "source": [
    "from typing import Dict\n",
    "\n",
    "class Product(BaseModel):\n",
    "    name : str\n",
    "    price : float\n",
    "\n",
    "\n",
    "class ProductCatloag(BaseModel):\n",
    "    items: Dict[str, Product]\n",
    "\n",
    "\n",
    "\n",
    "try:\n",
    "    my_catlog = ProductCatloag(\n",
    "        items = {\n",
    "            \"p1\" : Product(name=\"cat\", price=7.65),\n",
    "            \"p2\" : Product(name=\"tea\", price=3.12),\n",
    "            \"p3\" : {\"name\": \"brush\", \"price\": 12.2}\n",
    "        }\n",
    "    )\n",
    "except pydantic.ValidationError as e:\n",
    "    print(e)\n",
    "\n"
   ]
  },
  {
   "cell_type": "code",
   "execution_count": 82,
   "metadata": {},
   "outputs": [
    {
     "data": {
      "text/plain": [
       "{'p1': Product(name='cat', price=7.65),\n",
       " 'p2': Product(name='tea', price=3.12),\n",
       " 'p3': Product(name='brush', price=12.2)}"
      ]
     },
     "execution_count": 82,
     "metadata": {},
     "output_type": "execute_result"
    }
   ],
   "source": [
    "my_catlog.items"
   ]
  },
  {
   "cell_type": "code",
   "execution_count": null,
   "metadata": {},
   "outputs": [],
   "source": []
  },
  {
   "cell_type": "code",
   "execution_count": 96,
   "metadata": {},
   "outputs": [],
   "source": [
    "from pydantic import BaseModel\n",
    "from typing import Dict\n",
    "\n",
    "class Order(BaseModel):\n",
    "    product_id: str\n",
    "    quantity: int\n",
    "\n",
    "class OrderBook(BaseModel):\n",
    "    orders: Dict[str, Dict[str, Order]]\n",
    "\n",
    "\n",
    "# Creating an OrderBook object\n",
    "order_book = OrderBook(orders = \n",
    "    {\n",
    "        \"grp1\": {\n",
    "            \"order_1\": Order(product_id=\"p1\", quantity=5),\n",
    "            \"order_2\": Order(product_id=\"p2\", quantity=8),\n",
    "        },\n",
    "        \"grp2\": {\n",
    "            \"order_3\": Order(product_id=\"p3\", quantity=2),\n",
    "        }\n",
    "    }\n",
    ")\n"
   ]
  },
  {
   "cell_type": "code",
   "execution_count": 98,
   "metadata": {},
   "outputs": [
    {
     "data": {
      "text/plain": [
       "OrderBook(orders={'grp1': {'order_1': Order(product_id='p1', quantity=5), 'order_2': Order(product_id='p2', quantity=8)}, 'grp2': {'order_3': Order(product_id='p3', quantity=2)}})"
      ]
     },
     "execution_count": 98,
     "metadata": {},
     "output_type": "execute_result"
    }
   ],
   "source": [
    "order_book"
   ]
  },
  {
   "cell_type": "markdown",
   "metadata": {},
   "source": []
  },
  {
   "cell_type": "markdown",
   "metadata": {},
   "source": [
    "Sets & Tuples"
   ]
  },
  {
   "cell_type": "code",
   "execution_count": 114,
   "metadata": {},
   "outputs": [],
   "source": [
    "from pydantic import BaseModel, Field, ValidationError\n",
    "from typing import Set\n",
    "\n",
    "class UniqueNumbers(BaseModel):\n",
    "    values: Set[int] = Field(max_items=10, min_length=5)\n",
    "\n",
    "\n",
    "try:\n",
    "    q1 = UniqueNumbers(values={1, 2, 3, 4, 5})\n",
    "except pydantic.ValidationError as e:\n",
    "    print(e)"
   ]
  },
  {
   "cell_type": "code",
   "execution_count": 117,
   "metadata": {},
   "outputs": [
    {
     "data": {
      "text/plain": [
       "{1, 2, 3, 4, 5}"
      ]
     },
     "execution_count": 117,
     "metadata": {},
     "output_type": "execute_result"
    }
   ],
   "source": [
    "q1.values"
   ]
  },
  {
   "cell_type": "code",
   "execution_count": null,
   "metadata": {},
   "outputs": [],
   "source": []
  },
  {
   "cell_type": "code",
   "execution_count": 118,
   "metadata": {},
   "outputs": [],
   "source": [
    "from typing import Tuple\n",
    "from pydantic import BaseModel\n",
    "\n",
    "\n",
    "class Coordinates(BaseModel):\n",
    "    point : Tuple[float, float, float]"
   ]
  },
  {
   "cell_type": "code",
   "execution_count": 119,
   "metadata": {},
   "outputs": [],
   "source": [
    "gps = Coordinates(\n",
    "    point=(10, 20, 30)\n",
    ")"
   ]
  },
  {
   "cell_type": "code",
   "execution_count": 121,
   "metadata": {},
   "outputs": [
    {
     "data": {
      "text/plain": [
       "(10.0, 20.0, 30.0)"
      ]
     },
     "execution_count": 121,
     "metadata": {},
     "output_type": "execute_result"
    }
   ],
   "source": [
    "gps.point"
   ]
  },
  {
   "cell_type": "code",
   "execution_count": null,
   "metadata": {},
   "outputs": [],
   "source": []
  },
  {
   "cell_type": "code",
   "execution_count": 130,
   "metadata": {},
   "outputs": [],
   "source": [
    "from typing import List\n",
    "from pydantic import BaseModel, Field\n",
    "\n",
    "\n",
    "class gmaps(BaseModel):\n",
    "    point : List[int] = Field(max_length=4, min_length=2)"
   ]
  },
  {
   "cell_type": "code",
   "execution_count": 131,
   "metadata": {},
   "outputs": [],
   "source": [
    "g1 = gmaps(\n",
    "    point = [11, 22, 33]\n",
    ")"
   ]
  },
  {
   "cell_type": "code",
   "execution_count": 132,
   "metadata": {},
   "outputs": [
    {
     "data": {
      "text/plain": [
       "[11, 22, 33]"
      ]
     },
     "execution_count": 132,
     "metadata": {},
     "output_type": "execute_result"
    }
   ],
   "source": [
    "g1.point"
   ]
  },
  {
   "cell_type": "code",
   "execution_count": null,
   "metadata": {},
   "outputs": [],
   "source": []
  },
  {
   "cell_type": "code",
   "execution_count": 134,
   "metadata": {},
   "outputs": [],
   "source": [
    "from typing import Tuple\n",
    "from pydantic import BaseModel\n",
    "\n",
    "\n",
    "class UserInfo(BaseModel):\n",
    "    detail : Tuple[int, str, bool]"
   ]
  },
  {
   "cell_type": "code",
   "execution_count": 135,
   "metadata": {},
   "outputs": [],
   "source": [
    "u1 = UserInfo(\n",
    "    detail = [11, \"hello\", True]\n",
    ")"
   ]
  },
  {
   "cell_type": "code",
   "execution_count": 136,
   "metadata": {},
   "outputs": [
    {
     "data": {
      "text/plain": [
       "UserInfo(detail=(11, 'hello', True))"
      ]
     },
     "execution_count": 136,
     "metadata": {},
     "output_type": "execute_result"
    }
   ],
   "source": [
    "u1"
   ]
  },
  {
   "cell_type": "code",
   "execution_count": null,
   "metadata": {},
   "outputs": [],
   "source": []
  },
  {
   "cell_type": "code",
   "execution_count": 138,
   "metadata": {},
   "outputs": [],
   "source": [
    "class GroceryList(BaseModel):\n",
    "    items : Tuple[str, ...] # to create a tuple with variable length \n",
    "\n",
    "\n",
    "g1 = GroceryList(items={\"one\", \"two\", \"three\"})"
   ]
  },
  {
   "cell_type": "code",
   "execution_count": 139,
   "metadata": {},
   "outputs": [
    {
     "data": {
      "text/plain": [
       "('two', 'one', 'three')"
      ]
     },
     "execution_count": 139,
     "metadata": {},
     "output_type": "execute_result"
    }
   ],
   "source": [
    "g1.items"
   ]
  },
  {
   "cell_type": "code",
   "execution_count": null,
   "metadata": {},
   "outputs": [],
   "source": []
  },
  {
   "cell_type": "markdown",
   "metadata": {},
   "source": [
    "Unions: \n",
    "\n",
    "- The Union type allows a model attribute to accept different types,"
   ]
  },
  {
   "cell_type": "code",
   "execution_count": 153,
   "metadata": {},
   "outputs": [],
   "source": [
    "from pydantic import BaseModel\n",
    "\n",
    "\n",
    "class Car(BaseModel):\n",
    "    make: str\n",
    "    model: str\n",
    "    seat_count: int\n",
    "\n",
    "\n",
    "class MotorCycle(BaseModel):\n",
    "    make:int\n",
    "    model: str\n",
    "    has_sidecar : bool\n",
    "\n",
    "\n",
    "class Truck(BaseModel):\n",
    "    make:str\n",
    "    model: str\n",
    "    towing_capacity : float     "
   ]
  },
  {
   "cell_type": "code",
   "execution_count": 154,
   "metadata": {},
   "outputs": [],
   "source": [
    "from typing import Union\n",
    "\n",
    "\n",
    "class Vehicle(BaseModel):\n",
    "    owner : str\n",
    "    vehicle_details : Union[Car, MotorCycle, Truck]"
   ]
  },
  {
   "cell_type": "code",
   "execution_count": 155,
   "metadata": {},
   "outputs": [],
   "source": [
    "v1 = Vehicle(owner=\"harry\",\n",
    "    vehicle_details=Car(make=\"suzuki\", model=\"s12\", seat_count=12))\n",
    "\n",
    "\n",
    "v2 = Vehicle(owner=\"marry\",\n",
    "    vehicle_details=Truck(make=\"makiki\", model=\"d56\", towing_capacity=1.2))"
   ]
  },
  {
   "cell_type": "code",
   "execution_count": 156,
   "metadata": {},
   "outputs": [
    {
     "data": {
      "text/plain": [
       "Vehicle(owner='harry', vehicle_details=Car(make='suzuki', model='s12', seat_count=12))"
      ]
     },
     "execution_count": 156,
     "metadata": {},
     "output_type": "execute_result"
    }
   ],
   "source": [
    "v1"
   ]
  },
  {
   "cell_type": "code",
   "execution_count": 157,
   "metadata": {},
   "outputs": [
    {
     "data": {
      "text/plain": [
       "Vehicle(owner='marry', vehicle_details=Truck(make='makiki', model='d56', towing_capacity=1.2))"
      ]
     },
     "execution_count": 157,
     "metadata": {},
     "output_type": "execute_result"
    }
   ],
   "source": [
    "v2"
   ]
  },
  {
   "cell_type": "code",
   "execution_count": null,
   "metadata": {},
   "outputs": [],
   "source": []
  },
  {
   "cell_type": "markdown",
   "metadata": {},
   "source": [
    "Creating a base model to avoid repetition"
   ]
  },
  {
   "cell_type": "code",
   "execution_count": 159,
   "metadata": {},
   "outputs": [],
   "source": [
    "from pydantic import BaseModel\n",
    "\n",
    "class VehicleBase(BaseModel):\n",
    "    make: str\n",
    "    model: str\n",
    "\n",
    "class Car(VehicleBase):\n",
    "    seat_count: int\n",
    "\n",
    "class MotorCycle(VehicleBase):\n",
    "    has_sidecar : bool\n",
    "\n",
    "class Truck(VehicleBase):\n",
    "    towing_capacity : float    \n"
   ]
  },
  {
   "cell_type": "code",
   "execution_count": 160,
   "metadata": {},
   "outputs": [],
   "source": [
    "\n",
    "from typing import Union\n",
    "class Vehicle(BaseModel):\n",
    "    owner : str\n",
    "    vehicle_details : Union[Car, MotorCycle, Truck] "
   ]
  },
  {
   "cell_type": "code",
   "execution_count": 161,
   "metadata": {},
   "outputs": [],
   "source": [
    "v1 = Vehicle(owner=\"harry\",\n",
    "    vehicle_details=Car(make=\"suzuki\", model=\"s12\", seat_count=12))\n",
    "\n",
    "\n",
    "v2 = Vehicle(owner=\"marry\",\n",
    "    vehicle_details=Truck(make=\"makiki\", model=\"d56\", towing_capacity=1.2))"
   ]
  },
  {
   "cell_type": "code",
   "execution_count": 162,
   "metadata": {},
   "outputs": [
    {
     "data": {
      "text/plain": [
       "Vehicle(owner='harry', vehicle_details=Car(make='suzuki', model='s12', seat_count=12))"
      ]
     },
     "execution_count": 162,
     "metadata": {},
     "output_type": "execute_result"
    }
   ],
   "source": [
    "v1"
   ]
  }
 ],
 "metadata": {
  "kernelspec": {
   "display_name": "vvenv",
   "language": "python",
   "name": "python3"
  },
  "language_info": {
   "codemirror_mode": {
    "name": "ipython",
    "version": 3
   },
   "file_extension": ".py",
   "mimetype": "text/x-python",
   "name": "python",
   "nbconvert_exporter": "python",
   "pygments_lexer": "ipython3",
   "version": "3.12.4"
  }
 },
 "nbformat": 4,
 "nbformat_minor": 2
}
