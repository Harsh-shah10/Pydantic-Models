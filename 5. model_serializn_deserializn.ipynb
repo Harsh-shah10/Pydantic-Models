{
 "cells": [
  {
   "cell_type": "code",
   "execution_count": 21,
   "metadata": {},
   "outputs": [
    {
     "name": "stdout",
     "output_type": "stream",
     "text": [
      "2.5.3\n"
     ]
    }
   ],
   "source": [
    "import pydantic\n",
    "print(pydantic.VERSION)\n"
   ]
  },
  {
   "cell_type": "markdown",
   "metadata": {},
   "source": []
  },
  {
   "cell_type": "markdown",
   "metadata": {},
   "source": [
    "Instance serialization to dict : \n"
   ]
  },
  {
   "cell_type": "code",
   "execution_count": 1,
   "metadata": {},
   "outputs": [
    {
     "name": "stdout",
     "output_type": "stream",
     "text": [
      "dept='Alumina' course_name='Science' start_dt=datetime.date(2024, 12, 22) end_dt=datetime.date(2025, 11, 12)\n"
     ]
    }
   ],
   "source": [
    "from pydantic import BaseModel, ValidationError, model_validator\n",
    "from datetime import date\n",
    "\n",
    "\n",
    "class ScheduledCourse(BaseModel):\n",
    "    dept : str\n",
    "    course_name : str\n",
    "    start_dt : date\n",
    "    end_dt : date\n",
    "\n",
    "    @model_validator(mode=\"before\") # Using before the model is being instantiated\n",
    "    @classmethod\n",
    "    def validate_date(cls, data: dict):\n",
    "        if data[\"start_dt\"] > data[\"end_dt\"]:\n",
    "            raise ValueError(\"Start date must be before the End date\")\n",
    "        return data \n",
    "\n",
    "try:\n",
    "    c1 = ScheduledCourse(\n",
    "        dept=\"Alumina\",\n",
    "        course_name=\"Science\",\n",
    "        start_dt=\"2024-12-22\",\n",
    "        end_dt=\"2025-11-12\"\n",
    "    )\n",
    "    print(c1)\n",
    "except pydantic.ValidationError as e:\n",
    "    print(e)\n",
    "\n"
   ]
  },
  {
   "cell_type": "code",
   "execution_count": 3,
   "metadata": {},
   "outputs": [
    {
     "data": {
      "text/plain": [
       "{'dept': 'Alumina',\n",
       " 'course_name': 'Science',\n",
       " 'start_dt': datetime.date(2024, 12, 22),\n",
       " 'end_dt': datetime.date(2025, 11, 12)}"
      ]
     },
     "execution_count": 3,
     "metadata": {},
     "output_type": "execute_result"
    }
   ],
   "source": [
    "# Object instance to dictionary\n",
    "\n",
    "c1.model_dump()"
   ]
  },
  {
   "cell_type": "code",
   "execution_count": 4,
   "metadata": {},
   "outputs": [
    {
     "data": {
      "text/plain": [
       "{'start_dt': datetime.date(2024, 12, 22),\n",
       " 'end_dt': datetime.date(2025, 11, 12)}"
      ]
     },
     "execution_count": 4,
     "metadata": {},
     "output_type": "execute_result"
    }
   ],
   "source": [
    "# If I want to exclude some items from serialization \n",
    "\n",
    "c1.model_dump(exclude={\"dept\", \"course_name\"})"
   ]
  },
  {
   "cell_type": "code",
   "execution_count": 8,
   "metadata": {},
   "outputs": [
    {
     "data": {
      "text/plain": [
       "{'course_name': 'Science', 'start_dt': datetime.date(2024, 12, 22)}"
      ]
     },
     "execution_count": 8,
     "metadata": {},
     "output_type": "execute_result"
    }
   ],
   "source": [
    "# If I want to include only specific  items for serialization \n",
    "\n",
    "c1.model_dump(include={\"start_dt\", \"course_name\"})"
   ]
  },
  {
   "cell_type": "markdown",
   "metadata": {},
   "source": []
  },
  {
   "cell_type": "markdown",
   "metadata": {},
   "source": [
    "=> Field Exclusions : "
   ]
  },
  {
   "cell_type": "markdown",
   "metadata": {},
   "source": [
    "\n",
    "exclude_unset : \n",
    "\n",
    "> parameter in Pydantic models allows you to exclude fields that have not been set (i.e., fields with their default value) when exporting a model to a dictionary. \n",
    "\n",
    "> This can be particularly useful when you want to generate partial updates or minimize the payload."
   ]
  },
  {
   "cell_type": "code",
   "execution_count": 10,
   "metadata": {},
   "outputs": [],
   "source": [
    "\n",
    "class User(BaseModel):\n",
    "    id: int\n",
    "    name: str\n",
    "    email: str = None\n",
    "\n",
    "user = User(id=1, name='Harry')"
   ]
  },
  {
   "cell_type": "code",
   "execution_count": 11,
   "metadata": {},
   "outputs": [
    {
     "data": {
      "text/plain": [
       "{'id': 1, 'name': 'Harry', 'email': None}"
      ]
     },
     "execution_count": 11,
     "metadata": {},
     "output_type": "execute_result"
    }
   ],
   "source": [
    "user.model_dump()"
   ]
  },
  {
   "cell_type": "code",
   "execution_count": 12,
   "metadata": {},
   "outputs": [
    {
     "data": {
      "text/plain": [
       "'{\"id\":1,\"name\":\"Harry\"}'"
      ]
     },
     "execution_count": 12,
     "metadata": {},
     "output_type": "execute_result"
    }
   ],
   "source": [
    "# Exporting the instance to a dictionary excluding unset fields\n",
    "user.model_dump_json(exclude_unset=True)"
   ]
  },
  {
   "cell_type": "markdown",
   "metadata": {},
   "source": []
  },
  {
   "cell_type": "markdown",
   "metadata": {},
   "source": [
    "\n",
    "exclude_defaults : \n",
    "\n",
    "> parameter in Pydantic models works similarly to exclude_unset, but it specifically excludes fields that have their default values when exporting a model to a dictionary. \n",
    "\n",
    "> This is useful when you want to avoid including fields that haven't been explicitly modified from their defaults."
   ]
  },
  {
   "cell_type": "code",
   "execution_count": 24,
   "metadata": {},
   "outputs": [],
   "source": [
    "\n",
    "class User(BaseModel):\n",
    "    id: int\n",
    "    name: str\n",
    "    email: str = \"\"\n",
    "\n",
    "user = User(id=1, name='Harry', email=\"\")"
   ]
  },
  {
   "cell_type": "code",
   "execution_count": 25,
   "metadata": {},
   "outputs": [
    {
     "data": {
      "text/plain": [
       "{'id': 1, 'name': 'Harry', 'email': ''}"
      ]
     },
     "execution_count": 25,
     "metadata": {},
     "output_type": "execute_result"
    }
   ],
   "source": [
    "user.model_dump()"
   ]
  },
  {
   "cell_type": "code",
   "execution_count": 26,
   "metadata": {},
   "outputs": [
    {
     "data": {
      "text/plain": [
       "'{\"id\":1,\"name\":\"Harry\"}'"
      ]
     },
     "execution_count": 26,
     "metadata": {},
     "output_type": "execute_result"
    }
   ],
   "source": [
    "user.model_dump_json(exclude_defaults=True)"
   ]
  },
  {
   "cell_type": "markdown",
   "metadata": {},
   "source": []
  },
  {
   "cell_type": "markdown",
   "metadata": {},
   "source": [
    "=> JSON Schema"
   ]
  },
  {
   "cell_type": "code",
   "execution_count": 1,
   "metadata": {},
   "outputs": [],
   "source": [
    "from pydantic import BaseModel, ValidationError, model_validator\n",
    "from datetime import date\n",
    "\n",
    "\n",
    "class ScheduledCourse(BaseModel):\n",
    "    dept : str = \"?\"\n",
    "    course_name : str \n",
    "    start_dt : date = date.today()\n",
    "    end_dt : date\n",
    "\n",
    "    @model_validator(mode=\"after\") \n",
    "    def validate_date(self):\n",
    "        if self.start_dt > self.end_dt:\n",
    "            raise ValueError(\"Start date must be before the End date\")\n",
    "        return self\n",
    "\n",
    "# try:\n",
    "#     c1 = ScheduledCourse(\n",
    "#         dept=\"Alumina\",\n",
    "#         course_name=\"Science\",\n",
    "#         start_dt=\"2024-12-22\",\n",
    "#         end_dt=\"2025-11-12\"\n",
    "#     )\n",
    "#     print(c1)\n",
    "# except pydantic.ValidationError as e:\n",
    "#     print(e)"
   ]
  },
  {
   "cell_type": "code",
   "execution_count": 2,
   "metadata": {},
   "outputs": [
    {
     "data": {
      "text/plain": [
       "{'properties': {'dept': {'default': '?', 'title': 'Dept', 'type': 'string'},\n",
       "  'course_name': {'title': 'Course Name', 'type': 'string'},\n",
       "  'start_dt': {'default': '2024-08-04',\n",
       "   'format': 'date',\n",
       "   'title': 'Start Dt',\n",
       "   'type': 'string'},\n",
       "  'end_dt': {'format': 'date', 'title': 'End Dt', 'type': 'string'}},\n",
       " 'required': ['course_name', 'end_dt'],\n",
       " 'title': 'ScheduledCourse',\n",
       " 'type': 'object'}"
      ]
     },
     "execution_count": 2,
     "metadata": {},
     "output_type": "execute_result"
    }
   ],
   "source": [
    "ScheduledCourse.model_json_schema()"
   ]
  },
  {
   "cell_type": "code",
   "execution_count": null,
   "metadata": {},
   "outputs": [],
   "source": []
  },
  {
   "cell_type": "code",
   "execution_count": 3,
   "metadata": {},
   "outputs": [],
   "source": [
    "# EX.\n",
    "\n",
    "from typing import List, Optional\n",
    "\n",
    "class Item(BaseModel):\n",
    "    name : str\n",
    "    notes : Optional[str] = None\n",
    "\n",
    "class Order(BaseModel):\n",
    "    id : int\n",
    "    items : List[Item]\n",
    "    "
   ]
  },
  {
   "cell_type": "code",
   "execution_count": 13,
   "metadata": {},
   "outputs": [
    {
     "name": "stdout",
     "output_type": "stream",
     "text": [
      "{\n",
      "    \"$defs\": {\n",
      "        \"Item\": {\n",
      "            \"properties\": {\n",
      "                \"name\": {\n",
      "                    \"title\": \"Name\",\n",
      "                    \"type\": \"string\"\n",
      "                },\n",
      "                \"notes\": {\n",
      "                    \"anyOf\": [\n",
      "                        {\n",
      "                            \"type\": \"string\"\n",
      "                        },\n",
      "                        {\n",
      "                            \"type\": \"null\"\n",
      "                        }\n",
      "                    ],\n",
      "                    \"default\": null,\n",
      "                    \"title\": \"Notes\"\n",
      "                }\n",
      "            },\n",
      "            \"required\": [\n",
      "                \"name\"\n",
      "            ],\n",
      "            \"title\": \"Item\",\n",
      "            \"type\": \"object\"\n",
      "        }\n",
      "    },\n",
      "    \"properties\": {\n",
      "        \"id\": {\n",
      "            \"title\": \"Id\",\n",
      "            \"type\": \"integer\"\n",
      "        },\n",
      "        \"items\": {\n",
      "            \"items\": {\n",
      "                \"$ref\": \"#/$defs/Item\"\n",
      "            },\n",
      "            \"title\": \"Items\",\n",
      "            \"type\": \"array\"\n",
      "        }\n",
      "    },\n",
      "    \"required\": [\n",
      "        \"id\",\n",
      "        \"items\"\n",
      "    ],\n",
      "    \"title\": \"Order\",\n",
      "    \"type\": \"object\"\n",
      "}\n"
     ]
    }
   ],
   "source": [
    "import json\n",
    "print(json.dumps(Order.model_json_schema(), indent=4))"
   ]
  },
  {
   "cell_type": "code",
   "execution_count": null,
   "metadata": {},
   "outputs": [],
   "source": []
  },
  {
   "cell_type": "markdown",
   "metadata": {},
   "source": [
    "=> Deserialization : \n",
    "\n",
    "> refers to the process of converting data formats like JSON into Python objects, "
   ]
  },
  {
   "cell_type": "code",
   "execution_count": 25,
   "metadata": {},
   "outputs": [],
   "source": [
    "from pydantic import BaseModel, EmailStr\n",
    "from typing import Optional\n",
    "\n",
    "\n",
    "class User(BaseModel):\n",
    "    name : str\n",
    "    age : int\n",
    "    email : Optional[EmailStr] = None\n"
   ]
  },
  {
   "cell_type": "code",
   "execution_count": 26,
   "metadata": {},
   "outputs": [],
   "source": [
    "json_user_data = '{\"name\": \"King\", \"age\":12, \"email\":\"hello@gmail.com\"}'\n"
   ]
  },
  {
   "cell_type": "code",
   "execution_count": 30,
   "metadata": {},
   "outputs": [],
   "source": [
    "# converting JSON data into UserObj\n",
    "\n",
    "u1 = User.model_validate_json(json_user_data)"
   ]
  },
  {
   "cell_type": "code",
   "execution_count": 31,
   "metadata": {},
   "outputs": [
    {
     "data": {
      "text/plain": [
       "'King'"
      ]
     },
     "execution_count": 31,
     "metadata": {},
     "output_type": "execute_result"
    }
   ],
   "source": [
    "u1.name"
   ]
  },
  {
   "cell_type": "code",
   "execution_count": null,
   "metadata": {},
   "outputs": [],
   "source": []
  },
  {
   "cell_type": "code",
   "execution_count": 41,
   "metadata": {},
   "outputs": [
    {
     "name": "stdout",
     "output_type": "stream",
     "text": [
      "VALID !!  Alice\n",
      "Field required\n",
      "VALID !!  Charlie\n",
      "Field required\n",
      "VALID !!  Eve\n"
     ]
    }
   ],
   "source": [
    "data_list = [\n",
    "    '{\"name\": \"Alice\", \"age\": 30, \"email\": \"alice@example.com\"}',\n",
    "    '{\"name\": \"Bob\", \"email\": \"bob@example.com\"}',\n",
    "    '{\"name\": \"Charlie\", \"age\": 25}',\n",
    "    '{\"age\": 22, \"email\": \"david@example.com\"}',\n",
    "    '{\"name\": \"Eve\", \"age\": 28, \"email\": \"eve@example.com\"}'\n",
    "]\n",
    "\n",
    "\n",
    "for u in data_list:\n",
    "    try:\n",
    "        uobj = User.model_validate_json(u)\n",
    "        print('VALID !! ', uobj.name)\n",
    "    except ValidationError as e:\n",
    "        print(e.errors()[0]['msg'])\n"
   ]
  }
 ],
 "metadata": {
  "kernelspec": {
   "display_name": "vvenv",
   "language": "python",
   "name": "python3"
  },
  "language_info": {
   "codemirror_mode": {
    "name": "ipython",
    "version": 3
   },
   "file_extension": ".py",
   "mimetype": "text/x-python",
   "name": "python",
   "nbconvert_exporter": "python",
   "pygments_lexer": "ipython3",
   "version": "3.12.4"
  }
 },
 "nbformat": 4,
 "nbformat_minor": 2
}
