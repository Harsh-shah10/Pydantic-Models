{
 "cells": [
  {
   "cell_type": "code",
   "execution_count": 1,
   "metadata": {},
   "outputs": [
    {
     "name": "stdout",
     "output_type": "stream",
     "text": [
      "2.5.3\n"
     ]
    }
   ],
   "source": [
    "import pydantic\n",
    "print(pydantic.VERSION)\n"
   ]
  },
  {
   "cell_type": "markdown",
   "metadata": {},
   "source": []
  },
  {
   "cell_type": "code",
   "execution_count": 2,
   "metadata": {},
   "outputs": [],
   "source": [
    "from pydantic import BaseModel\n",
    "from typing import Optional\n",
    "\n",
    "class User(BaseModel):\n",
    "    name : str\n",
    "    age : Optional[int] = None\n",
    "\n",
    "\n",
    "try:\n",
    "    u1 = User(name=\"harry\")\n",
    "except pydantic.ValidationError as e:\n",
    "    print(e)\n"
   ]
  },
  {
   "cell_type": "code",
   "execution_count": 4,
   "metadata": {},
   "outputs": [
    {
     "data": {
      "text/plain": [
       "'harry'"
      ]
     },
     "execution_count": 4,
     "metadata": {},
     "output_type": "execute_result"
    }
   ],
   "source": [
    "u1.name"
   ]
  },
  {
   "cell_type": "code",
   "execution_count": 5,
   "metadata": {},
   "outputs": [],
   "source": [
    "u1.age"
   ]
  },
  {
   "cell_type": "code",
   "execution_count": null,
   "metadata": {},
   "outputs": [],
   "source": []
  },
  {
   "cell_type": "code",
   "execution_count": 6,
   "metadata": {},
   "outputs": [
    {
     "data": {
      "text/plain": [
       "'marry'"
      ]
     },
     "execution_count": 6,
     "metadata": {},
     "output_type": "execute_result"
    }
   ],
   "source": [
    "try:\n",
    "    u2 = User(name=\"marry\", age=12)\n",
    "except pydantic.ValidationError as e:\n",
    "    print(e)\n",
    "\n",
    "u2.name"
   ]
  },
  {
   "cell_type": "code",
   "execution_count": 7,
   "metadata": {},
   "outputs": [
    {
     "data": {
      "text/plain": [
       "12"
      ]
     },
     "execution_count": 7,
     "metadata": {},
     "output_type": "execute_result"
    }
   ],
   "source": [
    "u2.age"
   ]
  },
  {
   "cell_type": "code",
   "execution_count": null,
   "metadata": {},
   "outputs": [],
   "source": []
  },
  {
   "cell_type": "markdown",
   "metadata": {},
   "source": [
    "UUID & Default Factories : \n",
    "\n",
    "- UUID : Universally unique identifiers\n",
    "- GUID : Globally unique identifiers"
   ]
  },
  {
   "cell_type": "code",
   "execution_count": 3,
   "metadata": {},
   "outputs": [
    {
     "name": "stdout",
     "output_type": "stream",
     "text": [
      "0464aad3-5a45-4765-aa54-343daeadef10\n"
     ]
    }
   ],
   "source": [
    "import uuid\n",
    "print(uuid.uuid4())"
   ]
  },
  {
   "cell_type": "code",
   "execution_count": 7,
   "metadata": {},
   "outputs": [],
   "source": [
    "from pydantic import BaseModel\n",
    "import pydantic\n",
    "\n",
    "class User(BaseModel):\n",
    "    id : uuid.UUID\n",
    "    name : str\n",
    "\n",
    "try:\n",
    "    u1 = User(id=uuid.uuid4(), name=\"harrys\")\n",
    "except pydantic.ValidationError as e:\n",
    "    print(e)"
   ]
  },
  {
   "cell_type": "code",
   "execution_count": 8,
   "metadata": {},
   "outputs": [
    {
     "data": {
      "text/plain": [
       "UUID('55d5ff2b-1a7c-45cb-8572-52ac77a84611')"
      ]
     },
     "execution_count": 8,
     "metadata": {},
     "output_type": "execute_result"
    }
   ],
   "source": [
    "u1.id"
   ]
  },
  {
   "cell_type": "code",
   "execution_count": null,
   "metadata": {},
   "outputs": [],
   "source": []
  },
  {
   "cell_type": "code",
   "execution_count": 16,
   "metadata": {},
   "outputs": [
    {
     "name": "stdout",
     "output_type": "stream",
     "text": [
      "id=UUID('2a5b5aec-b810-4e4f-90c3-44209c1c729f') name='happy'\n"
     ]
    }
   ],
   "source": [
    "# Setting the UUID in pydantic model by default \n",
    "\n",
    "from pydantic import BaseModel, Field\n",
    "import pydantic\n",
    "\n",
    "class User(BaseModel):\n",
    "    id : uuid.UUID = Field(default_factory=uuid.uuid4)\n",
    "    name : str\n",
    "\n",
    "\n",
    "try:\n",
    "    u2 = User(name=\"happy\")\n",
    "except pydantic.ValidationError as e:\n",
    "    print(e)\n",
    "\n",
    "print(u2)"
   ]
  },
  {
   "cell_type": "code",
   "execution_count": null,
   "metadata": {},
   "outputs": [],
   "source": []
  },
  {
   "cell_type": "markdown",
   "metadata": {},
   "source": [
    "Immutable attributes :\n",
    "\n",
    "- Attributes which cannot be modified after creation\n",
    "\n",
    "\n",
    "- Contribute to data integrity : Prevent accidental & unauthorized modification, ensuring data is consistant\n",
    "\n",
    "- Ther are Predictable : Attributes that dont change state after creation. Making the behaviour of our model more predictable \n",
    "\n",
    "- Concurrent safety : Immutable attributes are safer as they cannot be modofied after creation reducing data risk"
   ]
  },
  {
   "cell_type": "code",
   "execution_count": 21,
   "metadata": {},
   "outputs": [
    {
     "name": "stdout",
     "output_type": "stream",
     "text": [
      "name='happy' age=12\n",
      "name='lol' age=12\n"
     ]
    }
   ],
   "source": [
    "# Mutable\n",
    "\n",
    "from pydantic import BaseModel\n",
    "\n",
    "class User(BaseModel):\n",
    "    name : str\n",
    "    age : int\n",
    "\n",
    "\n",
    "\n",
    "try:\n",
    "    u2 = User(name=\"happy\", age=12)\n",
    "except pydantic.ValidationError as e:\n",
    "    print(e)\n",
    "\n",
    "print(u2)\n",
    "\n",
    "u2.name = \"lol\"\n",
    "print(u2)"
   ]
  },
  {
   "cell_type": "code",
   "execution_count": 39,
   "metadata": {},
   "outputs": [
    {
     "name": "stdout",
     "output_type": "stream",
     "text": [
      "name='---' age=12\n",
      "1 validation error for Userx\n",
      "name\n",
      "  Instance is frozen [type=frozen_instance, input_value='lol', input_type=str]\n",
      "    For further information visit https://errors.pydantic.dev/2.5/v/frozen_instance\n"
     ]
    }
   ],
   "source": [
    "# Im-Mutable (1 way)\n",
    "\n",
    "from pydantic import BaseModel\n",
    "\n",
    "class Userx(BaseModel):\n",
    "    name : str\n",
    "    age : int\n",
    "\n",
    "    class Config:\n",
    "        frozen = True\n",
    "\n",
    "try:\n",
    "    u1 = Userx(name=\"---\", age=12)\n",
    "    print(u1)\n",
    "\n",
    "\n",
    "    u1.name = \"lol\"\n",
    "    print(u1)\n",
    "except pydantic.ValidationError as e:\n",
    "    print(e)"
   ]
  },
  {
   "cell_type": "code",
   "execution_count": 42,
   "metadata": {},
   "outputs": [
    {
     "name": "stdout",
     "output_type": "stream",
     "text": [
      "name='[][][]' age=12\n",
      "1 validation error for Usery\n",
      "name\n",
      "  Instance is frozen [type=frozen_instance, input_value='lol', input_type=str]\n",
      "    For further information visit https://errors.pydantic.dev/2.5/v/frozen_instance\n"
     ]
    }
   ],
   "source": [
    "# Im-Mutable (Another way)\n",
    "\n",
    "from pydantic import BaseModel, ConfigDict\n",
    "\n",
    "class Usery(BaseModel):\n",
    "    model_config : ConfigDict = {\"frozen\": True}\n",
    "    name : str\n",
    "    age : int\n",
    "\n",
    "try:\n",
    "    u1 = Usery(name=\"[][][]\", age=12)\n",
    "    print(u1)\n",
    "\n",
    "\n",
    "    u1.name = \"lol\"\n",
    "    print(u1)\n",
    "except pydantic.ValidationError as e:\n",
    "    print(e)\n"
   ]
  },
  {
   "cell_type": "code",
   "execution_count": null,
   "metadata": {},
   "outputs": [],
   "source": []
  },
  {
   "cell_type": "code",
   "execution_count": 58,
   "metadata": {},
   "outputs": [
    {
     "name": "stdout",
     "output_type": "stream",
     "text": [
      "id=1 name='abcd' age=12\n",
      "id=1 name='efgh' age=12\n",
      "1 validation error for Users\n",
      "id\n",
      "  Field is frozen [type=frozen_field, input_value=111, input_type=int]\n",
      "    For further information visit https://errors.pydantic.dev/2.5/v/frozen_field\n",
      "id=1 name='xx' age=12\n",
      "\"Users\" object has no field \"lol\"\n"
     ]
    }
   ],
   "source": [
    "# If I want to make only some fiels immutable !!\n",
    "\n",
    "\n",
    "from pydantic import BaseModel, Field\n",
    "\n",
    "class Users(BaseModel):\n",
    "    id : int = Field(frozen=True)\n",
    "    name : str\n",
    "    age : int\n",
    "\n",
    "\n",
    "try:\n",
    "    u1 = Users(id=1, name=\"abcd\", age=12)\n",
    "    print(u1)\n",
    "    u1.name = \"efgh\"\n",
    "    print(u1)\n",
    "    u1.id=111\n",
    "except pydantic.ValidationError as e:\n",
    "    print(e)\n",
    "\n",
    "\n",
    "try:\n",
    "    u2 = Users(id=1, name=\"xx\", age=12, lol=\"add\") # added add properties\n",
    "    print(u2)\n",
    "\n",
    "    u2.lol = \"fffffff\"\n",
    "    print(u2)\n",
    "except (Exception, pydantic.ValidationError) as e:\n",
    "    print(e)"
   ]
  },
  {
   "cell_type": "code",
   "execution_count": 54,
   "metadata": {},
   "outputs": [
    {
     "name": "stdout",
     "output_type": "stream",
     "text": [
      "id=UUID('526ad619-01f6-4c7b-bf86-6e69e13be7bc') name='mac'\n",
      "1 validation error for Product\n",
      "don\n",
      "  Extra inputs are not permitted [type=extra_forbidden, input_value='true', input_type=str]\n",
      "    For further information visit https://errors.pydantic.dev/2.5/v/extra_forbidden\n"
     ]
    }
   ],
   "source": [
    "# additional Properties\n",
    "\n",
    "from pydantic import BaseModel, Field\n",
    "\n",
    "class Product(BaseModel):\n",
    "    id : uuid.UUID = Field(frozen=True, default_factory=uuid.uuid4)\n",
    "    name : str\n",
    "\n",
    "    class Config:\n",
    "        extra = \"forbid\"\n",
    "        # extra = \"ignore\"  <- default\n",
    "\n",
    "\n",
    "try:\n",
    "    p1 = Product(name=\"mac\")\n",
    "    print(p1)\n",
    "except pydantic.ValidationError as e:\n",
    "    print(e)  \n",
    "\n",
    "\n",
    "try:\n",
    "    p2 = Product(name=\"mac\", don=\"true\")\n",
    "    print(p2)\n",
    "except pydantic.ValidationError as e:\n",
    "    print(e)  \n"
   ]
  },
  {
   "cell_type": "code",
   "execution_count": 62,
   "metadata": {},
   "outputs": [
    {
     "name": "stdout",
     "output_type": "stream",
     "text": [
      "id=UUID('89129d6a-19df-4b9b-8668-1a903e455975') name='mac' moon='lol'\n",
      "id=UUID('89129d6a-19df-4b9b-8668-1a903e455975') name='mac' moon='new'\n"
     ]
    }
   ],
   "source": [
    "# Allowing additional attributes !!\n",
    "\n",
    "\n",
    "from pydantic import BaseModel, Field\n",
    "\n",
    "class Product(BaseModel):\n",
    "    id : uuid.UUID = Field(frozen=True, default_factory=uuid.uuid4)\n",
    "    name : str\n",
    "\n",
    "    class Config:\n",
    "        extra = \"allow\"\n",
    "        # extra = \"forbid\"\n",
    "        # extra = \"ignore\"  <- default\n",
    "\n",
    "\n",
    "try:\n",
    "    p1 = Product(name=\"mac\", moon=\"lol\")\n",
    "    print(p1)\n",
    "\n",
    "    p1.moon = \"new\"\n",
    "    print(p1)\n",
    "except pydantic.ValidationError as e:\n",
    "    print(e)  "
   ]
  },
  {
   "cell_type": "code",
   "execution_count": null,
   "metadata": {},
   "outputs": [],
   "source": []
  },
  {
   "cell_type": "markdown",
   "metadata": {},
   "source": [
    "Enumerations :\n",
    "\n",
    "- Enums is a set of symbolic names bound to unique values. \n",
    "- python sub-class"
   ]
  },
  {
   "cell_type": "code",
   "execution_count": 2,
   "metadata": {},
   "outputs": [
    {
     "name": "stdout",
     "output_type": "stream",
     "text": [
      "Season.SPRING <enum 'Season'>\n",
      "SPRING <class 'str'>\n",
      "1 <class 'int'>\n",
      "<Season.SPRING: 1>\n",
      "[<Season.SPRING: 1>, <Season.SUMMER: 2>, <Season.AUTUMN: 3>, <Season.WINTER: 4>]\n"
     ]
    }
   ],
   "source": [
    "from enum import Enum\n",
    "\n",
    "class Season(Enum):\n",
    "    SPRING = 1\n",
    "    SUMMER = 2\n",
    "    AUTUMN = 3\n",
    "    WINTER = 4\n",
    "\n",
    "print(Season.SPRING, type(Season.SPRING))\n",
    "print(Season.SPRING.name, type(Season.SPRING.name))\n",
    "print(Season.SPRING.value, type(Season.SPRING.value))\n",
    "print(repr(Season.SPRING))\n",
    "print(list(Season))\n"
   ]
  },
  {
   "cell_type": "code",
   "execution_count": 3,
   "metadata": {},
   "outputs": [
    {
     "data": {
      "text/plain": [
       "<Color.GREEN: 'green'>"
      ]
     },
     "execution_count": 3,
     "metadata": {},
     "output_type": "execute_result"
    }
   ],
   "source": [
    "from enum import Enum\n",
    "\n",
    "class Color(Enum):\n",
    "    RED = \"red\"\n",
    "    GREEN = \"green\"\n",
    "    BLUE = \"blue\"\n",
    "\n",
    "\n",
    "Color.GREEN"
   ]
  },
  {
   "cell_type": "code",
   "execution_count": 7,
   "metadata": {},
   "outputs": [
    {
     "name": "stdout",
     "output_type": "stream",
     "text": [
      "name='marry' color=<Color.RED: 'red'>\n",
      "1 validation error for Item\n",
      "color\n",
      "  Input should be 'red', 'green' or 'blue' [type=enum, input_value='black', input_type=str]\n"
     ]
    }
   ],
   "source": [
    "import pydantic\n",
    "from pydantic import BaseModel\n",
    "\n",
    "class Item(BaseModel):\n",
    "    name : str\n",
    "    color : Color\n",
    "\n",
    "try:\n",
    "    i1 = Item(name=\"marry\", color=\"red\")\n",
    "    print(i1)\n",
    "\n",
    "    i2 = Item(name=\"marry\", color=\"black\")\n",
    "    print(i2)\n",
    "except (Exception, pydantic.ValidationError) as e:\n",
    "    print(e)"
   ]
  },
  {
   "cell_type": "code",
   "execution_count": null,
   "metadata": {},
   "outputs": [],
   "source": []
  },
  {
   "cell_type": "markdown",
   "metadata": {},
   "source": [
    "Literals :\n",
    "are data type and can hold any value type, such as strings, numbers, and more."
   ]
  },
  {
   "cell_type": "code",
   "execution_count": 9,
   "metadata": {},
   "outputs": [
    {
     "name": "stdout",
     "output_type": "stream",
     "text": [
      "name='king' item='red'\n",
      "1 validation error for ItemWithLiterals\n",
      "item\n",
      "  Input should be 'red' or 'blue' [type=literal_error, input_value='black', input_type=str]\n",
      "    For further information visit https://errors.pydantic.dev/2.5/v/literal_error\n"
     ]
    }
   ],
   "source": [
    "import pydantic\n",
    "from pydantic import BaseModel\n",
    "from typing import Literal\n",
    "\n",
    "class ItemWithLiterals(BaseModel):\n",
    "    name : str\n",
    "    item : Literal[\"red\", \"blue\"]\n",
    "\n",
    "\n",
    "try:\n",
    "    obj1 = ItemWithLiterals(name=\"king\", item=\"red\")\n",
    "    print(obj1)\n",
    "\n",
    "    obj2 = ItemWithLiterals(name=\"moon\", item=\"black\")\n",
    "    print(obj2)\n",
    "except (Exception, pydantic.ValidationError) as e:\n",
    "    print(e)"
   ]
  }
 ],
 "metadata": {
  "kernelspec": {
   "display_name": "vvenv",
   "language": "python",
   "name": "python3"
  },
  "language_info": {
   "codemirror_mode": {
    "name": "ipython",
    "version": 3
   },
   "file_extension": ".py",
   "mimetype": "text/x-python",
   "name": "python",
   "nbconvert_exporter": "python",
   "pygments_lexer": "ipython3",
   "version": "3.12.4"
  }
 },
 "nbformat": 4,
 "nbformat_minor": 2
}
